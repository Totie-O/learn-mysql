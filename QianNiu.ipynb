{
 "cells": [
  {
   "cell_type": "code",
   "execution_count": 1,
   "id": "27aced09-b0a4-4a54-b306-85f3a4207c91",
   "metadata": {},
   "outputs": [],
   "source": [
    "import mysql.connector as mysql  # 需要pip install mysql.connector\n",
    "import pandas as pd"
   ]
  },
  {
   "cell_type": "code",
   "execution_count": 19,
   "id": "7a821113-ad2a-406a-ac0b-30812f700561",
   "metadata": {},
   "outputs": [],
   "source": [
    "df = pd.read_excel('/Users/totie_o/Desktop/【生意参谋平台】商品_全部_2024-04-01_2024-04-30.xls')"
   ]
  },
  {
   "cell_type": "code",
   "execution_count": 21,
   "id": "f79156a3-4094-4e2e-a006-71aa5786cfbb",
   "metadata": {},
   "outputs": [
    {
     "data": {
      "text/plain": [
       "Index(['统计日期', '商品ID', '商品名称', '货号', '商品状态', '商品标签', '商品访客数', '商品浏览量',\n",
       "       '平均停留时长', '商品详情页跳出率', '商品收藏人数', '商品加购件数', '商品加购人数', '下单买家数', '下单件数',\n",
       "       '下单金额', '下单转化率', '支付买家数', '支付件数', '支付金额', '商品支付转化率', '支付新买家数', '支付老买家数',\n",
       "       '老买家支付金额', '聚划算支付金额', '访客平均价值', '成功退款金额', '竞争力评分', '年累计支付金额', '月累计支付金额',\n",
       "       '月累计支付件数', '搜索引导支付转化率', '搜索引导访客数', '搜索引导支付买家数', '结构化详情引导转化率',\n",
       "       '结构化详情引导成交占比'],\n",
       "      dtype='object')"
      ]
     },
     "execution_count": 21,
     "metadata": {},
     "output_type": "execute_result"
    }
   ],
   "source": [
    "df.columns"
   ]
  },
  {
   "cell_type": "code",
   "execution_count": 38,
   "id": "67e0338f-c492-4493-bf0f-57f6d6342157",
   "metadata": {
    "scrolled": true
   },
   "outputs": [
    {
     "data": {
      "text/plain": [
       "2311"
      ]
     },
     "execution_count": 38,
     "metadata": {},
     "output_type": "execute_result"
    }
   ],
   "source": [
    "len(df.to_dict('records'))"
   ]
  },
  {
   "cell_type": "code",
   "execution_count": 66,
   "id": "2a2f0b31-eb1d-4872-bf1f-99b08472d9d3",
   "metadata": {},
   "outputs": [],
   "source": [
    "lst = [i for i in df.to_dict('records')[1].keys()]"
   ]
  },
  {
   "cell_type": "code",
   "execution_count": 67,
   "id": "dbb4b8d3-4ab5-4ad1-aa6e-ef4fd7dbc98f",
   "metadata": {
    "scrolled": true
   },
   "outputs": [
    {
     "data": {
      "text/plain": [
       "['统计日期',\n",
       " '商品ID',\n",
       " '商品名称',\n",
       " '货号',\n",
       " '商品状态',\n",
       " '商品标签',\n",
       " '商品访客数',\n",
       " '商品浏览量',\n",
       " '平均停留时长',\n",
       " '商品详情页跳出率',\n",
       " '商品收藏人数',\n",
       " '商品加购件数',\n",
       " '商品加购人数',\n",
       " '下单买家数',\n",
       " '下单件数',\n",
       " '下单金额',\n",
       " '下单转化率',\n",
       " '支付买家数',\n",
       " '支付件数',\n",
       " '支付金额',\n",
       " '商品支付转化率',\n",
       " '支付新买家数',\n",
       " '支付老买家数',\n",
       " '老买家支付金额',\n",
       " '聚划算支付金额',\n",
       " '访客平均价值',\n",
       " '成功退款金额',\n",
       " '竞争力评分',\n",
       " '年累计支付金额',\n",
       " '月累计支付金额',\n",
       " '月累计支付件数',\n",
       " '搜索引导支付转化率',\n",
       " '搜索引导访客数',\n",
       " '搜索引导支付买家数',\n",
       " '结构化详情引导转化率',\n",
       " '结构化详情引导成交占比']"
      ]
     },
     "execution_count": 67,
     "metadata": {},
     "output_type": "execute_result"
    }
   ],
   "source": [
    "lst"
   ]
  },
  {
   "cell_type": "code",
   "execution_count": 79,
   "id": "c684a30d-68a0-46f6-afc6-ac77d6efa778",
   "metadata": {},
   "outputs": [
    {
     "name": "stdout",
     "output_type": "stream",
     "text": [
      "['统计日期', 'DATE', 'NOT', 'NULL,', '商品ID', 'VARCHAR(255),', '商品名称', 'VARCHAR(255),', '货号', 'VARCHAR(255),', '商品访客数', 'int,', '商品浏览量', 'int,', '平均停留时长', 'int,', '商品详情页跳出率', 'VARCHAR(255),', '商品收藏人数', 'int,', '商品加购人数', 'int,', '下单买家数', 'int,', '下单件数', 'int,', '下单金额', 'int,', '下单转化率', 'int,', '支付买家数', 'int,', '支付件数', 'int,', '商品支付转化率', 'VARCHAR(255),', '支付新买家数', 'int,', '支付老买家数', 'int,', '老买家支付金额', 'int,', '访客平均价值', 'int,', '成功退款金额', 'int,']\n"
     ]
    }
   ],
   "source": [
    "str = \"\"\"统计日期 DATE NOT NULL,\n",
    "商品ID VARCHAR(255),\n",
    "商品名称 VARCHAR(255),\n",
    "货号 VARCHAR(255),\n",
    "商品访客数 int,\n",
    "商品浏览量 int,\n",
    "平均停留时长 int,\n",
    "商品详情页跳出率 int,\n",
    "商品收藏人数 int,\n",
    "商品加购人数 int,\n",
    "下单买家数 int,\n",
    "下单件数 int,\n",
    "下单金额 int,\n",
    "下单转化率 int,\n",
    "支付买家数 int,\n",
    "支付件数 int,\n",
    "商品支付转化率 int,\n",
    "支付新买家数 int,\n",
    "支付老买家数 int,\n",
    "老买家支付金额 int,\n",
    "访客平均价值 int,\n",
    "成功退款金额 int,\n",
    "\"\"\"\n",
    "columns = str.split()\n",
    "print(columns)\n",
    "\n",
    "ls = []\n",
    "for a in columns:\n",
    "    for b in lst:\n",
    "        if a == b:\n",
    "            ls.append(a)"
   ]
  },
  {
   "cell_type": "code",
   "execution_count": 196,
   "id": "5ef0ba56-8195-4398-add8-8aadc5aa99cf",
   "metadata": {},
   "outputs": [
    {
     "name": "stdout",
     "output_type": "stream",
     "text": [
      "['统计日期', 'DATE', 'NOT', 'NULL,', '商品ID', 'VARCHAR(255),', '商品名称', 'VARCHAR(255),', '货号', 'VARCHAR(255),', '商品访客数', 'int,', '商品浏览量', 'int,', '平均停留时长', 'int,', '商品详情页跳出率', 'VARCHAR(255),', '商品收藏人数', 'int,', '商品加购人数', 'int,', '下单买家数', 'int,', '下单件数', 'int,', '下单金额', 'int,', '下单转化率', 'int,', '支付买家数', 'int,', '支付件数', 'int,', '商品支付转化率', 'VARCHAR(255),', '支付新买家数', 'int,', '支付老买家数', 'int,', '老买家支付金额', 'int,', '访客平均价值', 'int,', '成功退款金额', 'int,']\n"
     ]
    }
   ],
   "source": [
    "str = \"\"\"统计日期 DATE NOT NULL,\n",
    "商品ID VARCHAR(255),\n",
    "商品名称 VARCHAR(255),\n",
    "货号 VARCHAR(255),\n",
    "商品访客数 int,\n",
    "商品浏览量 int,\n",
    "平均停留时长 int,\n",
    "商品详情页跳出率 VARCHAR(255),\n",
    "商品收藏人数 int,\n",
    "商品加购人数 int,\n",
    "下单买家数 int,\n",
    "下单件数 int,\n",
    "下单金额 int,\n",
    "下单转化率 int,\n",
    "支付买家数 int,\n",
    "支付件数 int,\n",
    "商品支付转化率 VARCHAR(255),\n",
    "支付新买家数 int,\n",
    "支付老买家数 int,\n",
    "老买家支付金额 int,\n",
    "访客平均价值 int,\n",
    "成功退款金额 int,\n",
    "\"\"\"\n",
    "columns = str.split()\n",
    "print(columns)"
   ]
  },
  {
   "cell_type": "code",
   "execution_count": 198,
   "id": "dc5b4e5c-564f-4906-beec-efae5ef3e54a",
   "metadata": {},
   "outputs": [
    {
     "name": "stdout",
     "output_type": "stream",
     "text": [
      "['统计日期', '商品ID', '商品名称', '货号', '商品访客数', '商品浏览量', '平均停留时长', '商品详情页跳出率', '商品收藏人数', '商品加购人数', '下单买家数', '下单件数', '下单金额', '下单转化率', '支付买家数', '支付件数', '商品支付转化率', '支付新买家数', '支付老买家数', '老买家支付金额', '访客平均价值', '成功退款金额']\n"
     ]
    }
   ],
   "source": [
    "for i in columns:\n",
    "    if i not in lst:\n",
    "        columns.remove(i)\n",
    "\n",
    "print(columns)"
   ]
  },
  {
   "cell_type": "code",
   "execution_count": 199,
   "id": "bf7e6bb7-13e6-447c-a426-c54a3b655a8d",
   "metadata": {},
   "outputs": [
    {
     "name": "stdout",
     "output_type": "stream",
     "text": [
      "['统计日期', '商品ID', '商品名称', '货号', '商品访客数', '商品浏览量', '平均停留时长', '商品详情页跳出率', '商品收藏人数', '商品加购人数', '下单买家数', '下单件数', '下单金额', '下单转化率', '支付买家数', '支付件数', '商品支付转化率', '支付新买家数', '支付老买家数', '老买家支付金额', '访客平均价值', '成功退款金额']\n"
     ]
    }
   ],
   "source": [
    "print(ls)"
   ]
  },
  {
   "cell_type": "code",
   "execution_count": 200,
   "id": "482957b8-7d63-4908-b35c-c48728f15457",
   "metadata": {},
   "outputs": [
    {
     "data": {
      "text/plain": [
       "True"
      ]
     },
     "execution_count": 200,
     "metadata": {},
     "output_type": "execute_result"
    }
   ],
   "source": [
    "columns == ls"
   ]
  },
  {
   "cell_type": "code",
   "execution_count": 201,
   "id": "7191bbaa-b7aa-4499-a856-24ab9864bac9",
   "metadata": {},
   "outputs": [
    {
     "name": "stdout",
     "output_type": "stream",
     "text": [
      "`统计日期`, `商品ID`, `商品名称`, `货号`, `商品访客数`, `商品浏览量`, `平均停留时长`, `商品详情页跳出率`, `商品收藏人数`, `商品加购人数`, `下单买家数`, `下单件数`, `下单金额`, `下单转化率`, `支付买家数`, `支付件数`, `商品支付转化率`, `支付新买家数`, `支付老买家数`, `老买家支付金额`, `访客平均价值`, `成功退款金额`, "
     ]
    }
   ],
   "source": [
    "for i in ls:\n",
    "    print('`'+i + '`,', end=' ')"
   ]
  },
  {
   "cell_type": "code",
   "execution_count": 206,
   "id": "d8b6e85d-d3af-4214-a25b-e76312dccd0b",
   "metadata": {},
   "outputs": [
    {
     "data": {
      "text/plain": [
       "'%s, %s, %s, %s, %s, %s, %s, %s, %s, %s, %s, %s, %s, %s, %s, %s, %s, %s, %s, %s, %s, %s, '"
      ]
     },
     "execution_count": 206,
     "metadata": {},
     "output_type": "execute_result"
    }
   ],
   "source": [
    "'%s, ' * 22"
   ]
  },
  {
   "cell_type": "code",
   "execution_count": 202,
   "id": "c701725a-d399-4a89-8858-1fcb02816310",
   "metadata": {},
   "outputs": [
    {
     "name": "stdout",
     "output_type": "stream",
     "text": [
      "i[\"统计日期\"], i[\"商品ID\"], i[\"商品名称\"], i[\"货号\"], i[\"商品访客数\"], i[\"商品浏览量\"], i[\"平均停留时长\"], i[\"商品详情页跳出率\"], i[\"商品收藏人数\"], i[\"商品加购人数\"], i[\"下单买家数\"], i[\"下单件数\"], i[\"下单金额\"], i[\"下单转化率\"], i[\"支付买家数\"], i[\"支付件数\"], i[\"商品支付转化率\"], i[\"支付新买家数\"], i[\"支付老买家数\"], i[\"老买家支付金额\"], i[\"访客平均价值\"], i[\"成功退款金额\"], "
     ]
    }
   ],
   "source": [
    "for i in ls:\n",
    "    print('i[\"'+i+'\"]', end=', ')"
   ]
  },
  {
   "cell_type": "code",
   "execution_count": 203,
   "id": "4fcbefc2-b0f3-4142-823a-300b93fff0cf",
   "metadata": {},
   "outputs": [],
   "source": [
    "values = []\n",
    "\n",
    "for i in df.to_dict('records'):\n",
    "    values.append((i[\"统计日期\"], i[\"商品ID\"], i[\"商品名称\"], i[\"货号\"], i[\"商品访客数\"], i[\"商品浏览量\"], i[\"平均停留时长\"], i[\"商品详情页跳出率\"], i[\"商品收藏人数\"], i[\"商品加购人数\"], i[\"下单买家数\"], i[\"下单件数\"], i[\"下单金额\"], i[\"下单转化率\"], i[\"支付买家数\"], i[\"支付件数\"], i[\"商品支付转化率\"], i[\"支付新买家数\"], i[\"支付老买家数\"], i[\"老买家支付金额\"], i[\"访客平均价值\"], i[\"成功退款金额\"]))"
   ]
  },
  {
   "cell_type": "code",
   "execution_count": 208,
   "id": "a666d4fa-08fe-4450-9853-4e008e0da724",
   "metadata": {},
   "outputs": [
    {
     "data": {
      "text/plain": [
       "22"
      ]
     },
     "execution_count": 208,
     "metadata": {},
     "output_type": "execute_result"
    }
   ],
   "source": [
    "len(values[0])"
   ]
  },
  {
   "cell_type": "code",
   "execution_count": 205,
   "id": "c04448cf-0227-47e4-b783-3ae1301f145e",
   "metadata": {
    "scrolled": true
   },
   "outputs": [
    {
     "data": {
      "text/plain": [
       "2311"
      ]
     },
     "execution_count": 205,
     "metadata": {},
     "output_type": "execute_result"
    }
   ],
   "source": [
    "len(values)"
   ]
  },
  {
   "cell_type": "code",
   "execution_count": 221,
   "id": "e733e0a8-7b7c-4fc6-9323-43ade28a6116",
   "metadata": {},
   "outputs": [],
   "source": [
    "conn = mysql.connect(\n",
    "    host = 'localhost',\n",
    "    user = 'Totie',\n",
    "    passwd = 'O',\n",
    "    database = 'QianNiu', # 也可以不指定数据库\n",
    ")"
   ]
  },
  {
   "cell_type": "code",
   "execution_count": 222,
   "id": "f3fdeabe-a020-4ee0-bc3d-c077120fe04d",
   "metadata": {},
   "outputs": [],
   "source": [
    "cursor = conn.cursor()"
   ]
  },
  {
   "cell_type": "code",
   "execution_count": 223,
   "id": "a8400e12-7552-486e-90e0-64e8c46b0a04",
   "metadata": {
    "scrolled": true
   },
   "outputs": [],
   "source": [
    "cursor.execute('CREATE TABLE 千牛每日销售 (统计日期 DATE NOT NULL,\\\n",
    "商品ID VARCHAR(255),\\\n",
    "商品名称 VARCHAR(255),\\\n",
    "货号 VARCHAR(255),\\\n",
    "商品访客数 int,\\\n",
    "商品浏览量 int,\\\n",
    "平均停留时长 int,\\\n",
    "商品详情页跳出率 float,\\\n",
    "商品收藏人数 int,\\\n",
    "商品加购人数 int,\\\n",
    "下单买家数 int,\\\n",
    "下单件数 int,\\\n",
    "下单金额 int,\\\n",
    "下单转化率 int,\\\n",
    "支付买家数 int,\\\n",
    "支付件数 int,\\\n",
    "商品支付转化率 float,\\\n",
    "支付新买家数 int,\\\n",
    "支付老买家数 int,\\\n",
    "老买家支付金额 int,\\\n",
    "访客平均价值 int,\\\n",
    "成功退款金额 int,\\\n",
    "PRIMARY KEY(统计日期, 商品名称, 货号));')"
   ]
  },
  {
   "cell_type": "code",
   "execution_count": 224,
   "id": "2fb1b8b6-9569-404d-a484-44196da9d7c3",
   "metadata": {},
   "outputs": [],
   "source": [
    "sql = 'INSERT INTO 千牛每日销售(`统计日期`, `商品ID`, `商品名称`, `货号`, `商品访客数`, `商品浏览量`, `平均停留时长`, `商品详情页跳出率`, `商品收藏人数`, `商品加购人数`, `下单买家数`, `下单件数`, `下单金额`, `下单转化率`, `支付买家数`, `支付件数`, `商品支付转化率`, `支付新买家数`, `支付老买家数`, `老买家支付金额`, `访客平均价值`, `成功退款金额`) VALUES (%s, %s, %s, %s, %s, %s, %s, %s, %s, %s, %s, %s, %s, %s, %s, %s, %s, %s, %s, %s, %s, %s)'"
   ]
  },
  {
   "cell_type": "code",
   "execution_count": 225,
   "id": "eb6ab827-70a4-413e-b71e-2752689ee1ea",
   "metadata": {},
   "outputs": [],
   "source": [
    "cursor.executemany(sql, values)"
   ]
  },
  {
   "cell_type": "code",
   "execution_count": 226,
   "id": "0d700b66-20ff-4ce9-8f82-0b4d314d82f4",
   "metadata": {},
   "outputs": [],
   "source": [
    "conn.commit()"
   ]
  },
  {
   "cell_type": "code",
   "execution_count": 227,
   "id": "a813aa00-035a-40ab-b4f6-646af8a00bf0",
   "metadata": {},
   "outputs": [
    {
     "data": {
      "text/plain": [
       "True"
      ]
     },
     "execution_count": 227,
     "metadata": {},
     "output_type": "execute_result"
    }
   ],
   "source": [
    "cursor.close()"
   ]
  },
  {
   "cell_type": "code",
   "execution_count": 228,
   "id": "cda0cbee-13c2-4ed4-9bdc-440fda656433",
   "metadata": {},
   "outputs": [],
   "source": [
    "conn.close()"
   ]
  },
  {
   "cell_type": "code",
   "execution_count": null,
   "id": "d5294cdc-3e72-4e71-8a08-3247037404bf",
   "metadata": {},
   "outputs": [],
   "source": []
  }
 ],
 "metadata": {
  "kernelspec": {
   "display_name": "Python 3 (ipykernel)",
   "language": "python",
   "name": "python3"
  },
  "language_info": {
   "codemirror_mode": {
    "name": "ipython",
    "version": 3
   },
   "file_extension": ".py",
   "mimetype": "text/x-python",
   "name": "python",
   "nbconvert_exporter": "python",
   "pygments_lexer": "ipython3",
   "version": "3.11.9"
  }
 },
 "nbformat": 4,
 "nbformat_minor": 5
}
